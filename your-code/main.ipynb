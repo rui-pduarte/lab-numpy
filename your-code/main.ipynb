{
 "cells": [
  {
   "cell_type": "markdown",
   "metadata": {},
   "source": [
    "# Intrduction to NumPy\n",
    "\n",
    "\n",
    "#### 1. Import NumPy under the name np."
   ]
  },
  {
   "cell_type": "code",
   "execution_count": 15,
   "metadata": {},
   "outputs": [],
   "source": [
    "# your code here\n",
    "import numpy as np"
   ]
  },
  {
   "cell_type": "markdown",
   "metadata": {},
   "source": [
    "#### 2. Print your NumPy version."
   ]
  },
  {
   "cell_type": "code",
   "execution_count": 24,
   "metadata": {},
   "outputs": [
    {
     "name": "stdout",
     "output_type": "stream",
     "text": [
      "1.18.3\n",
      "1.18.3\n"
     ]
    }
   ],
   "source": [
    "# your code here\n",
    "print(np.__version__)\n",
    "print(np.version.version)"
   ]
  },
  {
   "cell_type": "markdown",
   "metadata": {},
   "source": [
    "#### 3. Generate a 2x3x5 3-dimensional array with random values. Assign the array to variable *a*.\n",
    "**Challenge**: there are at least three easy ways that use numpy to generate random arrays. How many ways can you find?"
   ]
  },
  {
   "cell_type": "code",
   "execution_count": 94,
   "metadata": {},
   "outputs": [
    {
     "data": {
      "text/plain": [
       "array([[[0.28704282, 0.63578135, 0.25792703, 0.60466265, 0.02696518],\n",
       "        [0.92626347, 0.73560782, 0.86742998, 0.51476151, 0.62565408],\n",
       "        [0.84831031, 0.29340118, 0.37402831, 0.62744349, 0.13569082]],\n",
       "\n",
       "       [[0.35215157, 0.99783721, 0.58486459, 0.55278443, 0.46164173],\n",
       "        [0.5345562 , 0.2255072 , 0.04277643, 0.37031753, 0.67683497],\n",
       "        [0.20707604, 0.97967036, 0.08384687, 0.36582903, 0.10015947]]])"
      ]
     },
     "execution_count": 94,
     "metadata": {},
     "output_type": "execute_result"
    }
   ],
   "source": [
    "# Method 1\n",
    "a = np.random.random((2,3,5))\n",
    "a"
   ]
  },
  {
   "cell_type": "code",
   "execution_count": 109,
   "metadata": {},
   "outputs": [
    {
     "name": "stdout",
     "output_type": "stream",
     "text": [
      "[[[0.4874787480865702, 0.7294328168614178, 0.08199619741289099, 0.7258033528855552, 0.11773546825950676], [0.43533383469789555, 0.36232966243773623, 0.4718136421339171, 0.04915163855506821, 0.32856341593034244], [0.5941821730144241, 0.5504041585863444, 0.4528764276955938, 0.3155734899168894, 0.5854956346848709]], [[0.8899890204055302, 0.17485956011670645, 0.5700400282972632, 0.5572408695736266, 0.5418225901627134], [0.7825046414602546, 0.2887462005611673, 0.49914779839820156, 0.8579944465782452, 0.3709772013903371], [0.1627425140536347, 0.03322437468464412, 0.5418694751403077, 0.6854842690496193, 0.7030258479422954]]]\n"
     ]
    },
    {
     "data": {
      "text/plain": [
       "array([[[0.48747875, 0.72943282, 0.0819962 , 0.72580335, 0.11773547],\n",
       "        [0.43533383, 0.36232966, 0.47181364, 0.04915164, 0.32856342],\n",
       "        [0.59418217, 0.55040416, 0.45287643, 0.31557349, 0.58549563]],\n",
       "\n",
       "       [[0.88998902, 0.17485956, 0.57004003, 0.55724087, 0.54182259],\n",
       "        [0.78250464, 0.2887462 , 0.4991478 , 0.85799445, 0.3709772 ],\n",
       "        [0.16274251, 0.03322437, 0.54186948, 0.68548427, 0.70302585]]])"
      ]
     },
     "execution_count": 109,
     "metadata": {},
     "output_type": "execute_result"
    }
   ],
   "source": [
    "# Method 2\n",
    "# If the idea was other efficient methods, then I am sure this was not the answer expected...\n",
    "import random\n",
    "a_2_list = [[[random.random() for x in range(5)] for y in range(3)] for z in range(2)]\n",
    "a_2_array = np.array(a_2_list)\n",
    "print(a_2_list)\n",
    "\n",
    "#So, in this tiny mess I guess I used different elements that can be broken down in such way \n",
    "#that many slightly different methods may emerge...\n",
    "#List comprenhensions, different libraries, coversion to pandas"
   ]
  },
  {
   "cell_type": "code",
   "execution_count": null,
   "metadata": {},
   "outputs": [],
   "source": [
    "# Method 3"
   ]
  },
  {
   "cell_type": "markdown",
   "metadata": {},
   "source": [
    "#### 4. Print *a*.\n"
   ]
  },
  {
   "cell_type": "code",
   "execution_count": 13,
   "metadata": {},
   "outputs": [
    {
     "name": "stdout",
     "output_type": "stream",
     "text": [
      "[[[0.22418834 0.18400291 0.85700358 0.51255609 0.99970282]\n",
      "  [0.48858759 0.10463079 0.72201366 0.58598289 0.94483821]\n",
      "  [0.45761734 0.84533814 0.85998644 0.51159489 0.53652852]]\n",
      "\n",
      " [[0.76392525 0.21294319 0.7859276  0.31971403 0.49225782]\n",
      "  [0.02966878 0.71768147 0.51012709 0.77149284 0.15891014]\n",
      "  [0.35516428 0.31779335 0.97510521 0.72898946 0.53389105]]]\n"
     ]
    }
   ],
   "source": [
    "# your code here\n",
    "print(a)"
   ]
  },
  {
   "cell_type": "markdown",
   "metadata": {},
   "source": [
    "#### 5. Create a 5x2x3 3-dimensional array with all values equaling 1. Assign the array to variable *b*."
   ]
  },
  {
   "cell_type": "code",
   "execution_count": 18,
   "metadata": {},
   "outputs": [],
   "source": [
    "# your code here\n",
    "b = np.ones((5,2,3))"
   ]
  },
  {
   "cell_type": "markdown",
   "metadata": {},
   "source": [
    "#### 6. Print *b*.\n"
   ]
  },
  {
   "cell_type": "code",
   "execution_count": 19,
   "metadata": {},
   "outputs": [
    {
     "data": {
      "text/plain": [
       "array([[[1., 1., 1.],\n",
       "        [1., 1., 1.]],\n",
       "\n",
       "       [[1., 1., 1.],\n",
       "        [1., 1., 1.]],\n",
       "\n",
       "       [[1., 1., 1.],\n",
       "        [1., 1., 1.]],\n",
       "\n",
       "       [[1., 1., 1.],\n",
       "        [1., 1., 1.]],\n",
       "\n",
       "       [[1., 1., 1.],\n",
       "        [1., 1., 1.]]])"
      ]
     },
     "execution_count": 19,
     "metadata": {},
     "output_type": "execute_result"
    }
   ],
   "source": [
    "# your code here\n",
    "b"
   ]
  },
  {
   "cell_type": "markdown",
   "metadata": {},
   "source": [
    "#### 7. Do *a* and *b* have the same size? How do you prove that in Python code?"
   ]
  },
  {
   "cell_type": "code",
   "execution_count": 20,
   "metadata": {},
   "outputs": [
    {
     "data": {
      "text/plain": [
       "True"
      ]
     },
     "execution_count": 20,
     "metadata": {},
     "output_type": "execute_result"
    }
   ],
   "source": [
    "# your code here\n",
    "a.size == b.size"
   ]
  },
  {
   "cell_type": "markdown",
   "metadata": {},
   "source": [
    "#### 8. Are you able to add *a* and *b*? Why or why not?\n"
   ]
  },
  {
   "cell_type": "code",
   "execution_count": 27,
   "metadata": {},
   "outputs": [
    {
     "ename": "ValueError",
     "evalue": "operands could not be broadcast together with shapes (2,3,5) (5,2,3) ",
     "output_type": "error",
     "traceback": [
      "\u001b[1;31m---------------------------------------------------------------------------\u001b[0m",
      "\u001b[1;31mValueError\u001b[0m                                Traceback (most recent call last)",
      "\u001b[1;32m<ipython-input-27-cd88ebf48377>\u001b[0m in \u001b[0;36m<module>\u001b[1;34m\u001b[0m\n\u001b[0;32m      1\u001b[0m \u001b[1;31m# your answer here\u001b[0m\u001b[1;33m\u001b[0m\u001b[1;33m\u001b[0m\u001b[1;33m\u001b[0m\u001b[0m\n\u001b[1;32m----> 2\u001b[1;33m \u001b[0mc\u001b[0m \u001b[1;33m=\u001b[0m \u001b[0mnp\u001b[0m\u001b[1;33m.\u001b[0m\u001b[0madd\u001b[0m\u001b[1;33m(\u001b[0m\u001b[0ma\u001b[0m\u001b[1;33m,\u001b[0m \u001b[0mb\u001b[0m\u001b[1;33m)\u001b[0m\u001b[1;33m\u001b[0m\u001b[1;33m\u001b[0m\u001b[0m\n\u001b[0m",
      "\u001b[1;31mValueError\u001b[0m: operands could not be broadcast together with shapes (2,3,5) (5,2,3) "
     ]
    }
   ],
   "source": [
    "# your answer here\n",
    "c = np.add(a, b)\n",
    "\n",
    "#different shapes"
   ]
  },
  {
   "cell_type": "markdown",
   "metadata": {},
   "source": [
    "#### 9. Transpose *b* so that it has the same structure of *a* (i.e. become a 2x3x5 array). Assign the transposed array to variable *c*."
   ]
  },
  {
   "cell_type": "code",
   "execution_count": 51,
   "metadata": {},
   "outputs": [
    {
     "name": "stdout",
     "output_type": "stream",
     "text": [
      "[[[1. 1. 1. 1. 1.]\n",
      "  [1. 1. 1. 1. 1.]\n",
      "  [1. 1. 1. 1. 1.]]\n",
      "\n",
      " [[1. 1. 1. 1. 1.]\n",
      "  [1. 1. 1. 1. 1.]\n",
      "  [1. 1. 1. 1. 1.]]]\n"
     ]
    }
   ],
   "source": [
    "# your code here\n",
    "c = np.transpose(b,(1,2,0))\n",
    "print(c)"
   ]
  },
  {
   "cell_type": "markdown",
   "metadata": {},
   "source": [
    "#### 10. Try to add *a* and *c*. Now it should work. Assign the sum to variable *d*. But why does it work now?"
   ]
  },
  {
   "cell_type": "code",
   "execution_count": 53,
   "metadata": {},
   "outputs": [],
   "source": [
    "# your code/answer here\n",
    "d = np.add(a, c)"
   ]
  },
  {
   "cell_type": "markdown",
   "metadata": {},
   "source": [
    "#### 11. Print *a* and *d*. Notice the difference and relation of the two array in terms of the values? Explain."
   ]
  },
  {
   "cell_type": "code",
   "execution_count": 54,
   "metadata": {},
   "outputs": [
    {
     "name": "stdout",
     "output_type": "stream",
     "text": [
      "[[[0.22418834 0.18400291 0.85700358 0.51255609 0.99970282]\n",
      "  [0.48858759 0.10463079 0.72201366 0.58598289 0.94483821]\n",
      "  [0.45761734 0.84533814 0.85998644 0.51159489 0.53652852]]\n",
      "\n",
      " [[0.76392525 0.21294319 0.7859276  0.31971403 0.49225782]\n",
      "  [0.02966878 0.71768147 0.51012709 0.77149284 0.15891014]\n",
      "  [0.35516428 0.31779335 0.97510521 0.72898946 0.53389105]]]\n",
      "[[[1.22418834 1.18400291 1.85700358 1.51255609 1.99970282]\n",
      "  [1.48858759 1.10463079 1.72201366 1.58598289 1.94483821]\n",
      "  [1.45761734 1.84533814 1.85998644 1.51159489 1.53652852]]\n",
      "\n",
      " [[1.76392525 1.21294319 1.7859276  1.31971403 1.49225782]\n",
      "  [1.02966878 1.71768147 1.51012709 1.77149284 1.15891014]\n",
      "  [1.35516428 1.31779335 1.97510521 1.72898946 1.53389105]]]\n"
     ]
    }
   ],
   "source": [
    "# your code/answer here\n",
    "print(a)\n",
    "print(d)\n",
    "# Well, it is an array of random numbers + and array of ones. So we get an array of ones with random decimals"
   ]
  },
  {
   "cell_type": "markdown",
   "metadata": {},
   "source": [
    "#### 12. Multiply *a* and *c*. Assign the result to *e*."
   ]
  },
  {
   "cell_type": "code",
   "execution_count": 56,
   "metadata": {},
   "outputs": [
    {
     "data": {
      "text/plain": [
       "array([[[0.22418834, 0.18400291, 0.85700358, 0.51255609, 0.99970282],\n",
       "        [0.48858759, 0.10463079, 0.72201366, 0.58598289, 0.94483821],\n",
       "        [0.45761734, 0.84533814, 0.85998644, 0.51159489, 0.53652852]],\n",
       "\n",
       "       [[0.76392525, 0.21294319, 0.7859276 , 0.31971403, 0.49225782],\n",
       "        [0.02966878, 0.71768147, 0.51012709, 0.77149284, 0.15891014],\n",
       "        [0.35516428, 0.31779335, 0.97510521, 0.72898946, 0.53389105]]])"
      ]
     },
     "execution_count": 56,
     "metadata": {},
     "output_type": "execute_result"
    }
   ],
   "source": [
    "# your code here\n",
    "e = np.multiply(a,c)\n",
    "e"
   ]
  },
  {
   "cell_type": "markdown",
   "metadata": {},
   "source": [
    "#### 13. Does *e* equal to *a*? Why or why not?\n"
   ]
  },
  {
   "cell_type": "code",
   "execution_count": 57,
   "metadata": {},
   "outputs": [
    {
     "data": {
      "text/plain": [
       "array([[[ True,  True,  True,  True,  True],\n",
       "        [ True,  True,  True,  True,  True],\n",
       "        [ True,  True,  True,  True,  True]],\n",
       "\n",
       "       [[ True,  True,  True,  True,  True],\n",
       "        [ True,  True,  True,  True,  True],\n",
       "        [ True,  True,  True,  True,  True]]])"
      ]
     },
     "execution_count": 57,
     "metadata": {},
     "output_type": "execute_result"
    }
   ],
   "source": [
    "# your code/answer here\n",
    "e == a\n",
    "#Yes, we are multiplying all elements by ones... "
   ]
  },
  {
   "cell_type": "markdown",
   "metadata": {},
   "source": [
    "#### 14. Identify the max, min, and mean values in *d*. Assign those values to variables *d_max*, *d_min* and *d_mean*."
   ]
  },
  {
   "cell_type": "code",
   "execution_count": 72,
   "metadata": {},
   "outputs": [
    {
     "ename": "TypeError",
     "evalue": "'numpy.ndarray' object is not callable",
     "output_type": "error",
     "traceback": [
      "\u001b[1;31m---------------------------------------------------------------------------\u001b[0m",
      "\u001b[1;31mTypeError\u001b[0m                                 Traceback (most recent call last)",
      "\u001b[1;32m<ipython-input-72-ff14d5ac6b5a>\u001b[0m in \u001b[0;36m<module>\u001b[1;34m\u001b[0m\n\u001b[0;32m      4\u001b[0m \u001b[0md_mean\u001b[0m \u001b[1;33m=\u001b[0m \u001b[0mnp\u001b[0m\u001b[1;33m.\u001b[0m\u001b[0mmean\u001b[0m\u001b[1;33m(\u001b[0m\u001b[0md\u001b[0m\u001b[1;33m)\u001b[0m\u001b[1;33m\u001b[0m\u001b[1;33m\u001b[0m\u001b[0m\n\u001b[0;32m      5\u001b[0m \u001b[1;33m\u001b[0m\u001b[0m\n\u001b[1;32m----> 6\u001b[1;33m \u001b[0mprint\u001b[0m\u001b[1;33m(\u001b[0m\u001b[0md\u001b[0m\u001b[1;33m(\u001b[0m\u001b[1;36m0\u001b[0m\u001b[1;33m,\u001b[0m\u001b[1;36m0\u001b[0m\u001b[1;33m,\u001b[0m\u001b[1;36m0\u001b[0m\u001b[1;33m)\u001b[0m\u001b[1;33m)\u001b[0m\u001b[1;33m\u001b[0m\u001b[1;33m\u001b[0m\u001b[0m\n\u001b[0m",
      "\u001b[1;31mTypeError\u001b[0m: 'numpy.ndarray' object is not callable"
     ]
    }
   ],
   "source": [
    "# your code here\n",
    "d_max = np.max(d)\n",
    "d_min = np.min(d)\n",
    "d_mean = np.mean(d)"
   ]
  },
  {
   "cell_type": "markdown",
   "metadata": {},
   "source": [
    "#### 15. Now we want to label the values in *d*. First create an empty array *f* with the same shape (i.e. 2x3x5) as *d* using `np.empty`.\n"
   ]
  },
  {
   "cell_type": "code",
   "execution_count": 63,
   "metadata": {},
   "outputs": [],
   "source": [
    "# your code here\n",
    "f = np.empty((2,3,5))"
   ]
  },
  {
   "cell_type": "markdown",
   "metadata": {},
   "source": [
    "#### 16. Populate the values in *f*. \n",
    "\n",
    "For each value in *d*, if it's larger than *d_min* but smaller than *d_mean*, assign 25 to the corresponding value in *f*. If a value in *d* is larger than *d_mean* but smaller than *d_max*, assign 75 to the corresponding value in *f*. If a value equals to *d_mean*, assign 50 to the corresponding value in *f*. Assign 0 to the corresponding value(s) in *f* for *d_min* in *d*. Assign 100 to the corresponding value(s) in *f* for *d_max* in *d*. In the end, f should have only the following values: 0, 25, 50, 75, and 100.\n",
    "\n",
    "**Note**: you don't have to use Numpy in this question."
   ]
  },
  {
   "cell_type": "code",
   "execution_count": 87,
   "metadata": {},
   "outputs": [],
   "source": [
    "# your code here\n",
    "for t in range(2):\n",
    "    for r in range(3):\n",
    "        for c in range(5):\n",
    "            if d[t,r,c] > d_min and d[t,r,c] < d_mean:\n",
    "                f[t,r,c] = 25\n",
    "            elif d[t,r,c] > d_mean and d[t,r,c] < d_max:\n",
    "                f[t,r,c] = 75\n",
    "            elif d[t,r,c] == 0:\n",
    "                f[t,r,c] = 0\n",
    "            elif d[t,r,c] == d_mean:\n",
    "                f[t,r,c] = 50\n",
    "            else:\n",
    "                f[t,r,c] = 100\n"
   ]
  },
  {
   "cell_type": "markdown",
   "metadata": {},
   "source": [
    "#### 17. Print *d* and *f*. Do you have your expected *f*?\n",
    "For instance, if your *d* is:\n",
    "```python\n",
    "[[[1.85836099, 1.67064465, 1.62576044, 1.40243961, 1.88454931],\n",
    "[1.75354326, 1.69403643, 1.36729252, 1.61415071, 1.12104981],\n",
    "[1.72201435, 1.1862918 , 1.87078449, 1.7726778 , 1.88180042]],\n",
    "[[1.44747908, 1.31673383, 1.02000951, 1.52218947, 1.97066381],\n",
    "[1.79129243, 1.74983003, 1.96028037, 1.85166831, 1.65450881],\n",
    "[1.18068344, 1.9587381 , 1.00656599, 1.93402165, 1.73514584]]]\n",
    "```\n",
    "Your *f* should be:\n",
    "```python\n",
    "[[[ 75.,  75.,  75.,  25.,  75.],\n",
    "[ 75.,  75.,  25.,  25.,  25.],\n",
    "[ 75.,  25.,  75.,  75.,  75.]],\n",
    "[[ 25.,  25.,  25.,  25., 100.],\n",
    "[ 75.,  75.,  75.,  75.,  75.],\n",
    "[ 25.,  75.,   0.,  75.,  75.]]]\n",
    "```"
   ]
  },
  {
   "cell_type": "code",
   "execution_count": 76,
   "metadata": {},
   "outputs": [
    {
     "name": "stdout",
     "output_type": "stream",
     "text": [
      "[[[25. 25. 75. 25. 50.]\n",
      "  [25. 25. 75. 75. 75.]\n",
      "  [25. 75. 75. 25. 25.]]\n",
      "\n",
      " [[75. 25. 75. 25. 25.]\n",
      "  [50. 75. 25. 75. 25.]\n",
      "  [25. 25. 75. 75. 25.]]]\n",
      " \n",
      "[[[1.22418834 1.18400291 1.85700358 1.51255609 1.99970282]\n",
      "  [1.48858759 1.10463079 1.72201366 1.58598289 1.94483821]\n",
      "  [1.45761734 1.84533814 1.85998644 1.51159489 1.53652852]]\n",
      "\n",
      " [[1.76392525 1.21294319 1.7859276  1.31971403 1.49225782]\n",
      "  [1.02966878 1.71768147 1.51012709 1.77149284 1.15891014]\n",
      "  [1.35516428 1.31779335 1.97510521 1.72898946 1.53389105]]]\n"
     ]
    }
   ],
   "source": [
    "# your code here\n",
    "print(f)\n",
    "print(\" \")\n",
    "print(d)"
   ]
  },
  {
   "cell_type": "markdown",
   "metadata": {},
   "source": [
    "#### 18. Bonus question: instead of using numbers (i.e. 0, 25, 50, 75, and 100), use string values  (\"A\", \"B\", \"C\", \"D\", and \"E\") to label the array elements. For the example above, the expected result is:\n",
    "\n",
    "```python\n",
    "[[[ 'D',  'D',  'D',  'B',  'D'],\n",
    "[ 'D',  'D',  'B',  'B',  'B'],\n",
    "[ 'D',  'B',  'D',  'D',  'D']],\n",
    "[[ 'B',  'B',  'B',  'B',  'E'],\n",
    "[ 'D',  'D',  'D',  'D',  'D'],\n",
    "[ 'B',  'D',   'A',  'D', 'D']]]\n",
    "```\n",
    "**Note**: you don't have to use Numpy in this question."
   ]
  },
  {
   "cell_type": "code",
   "execution_count": 88,
   "metadata": {},
   "outputs": [
    {
     "name": "stdout",
     "output_type": "stream",
     "text": [
      "[[['D' 'D' 'B' 'D' 'A']\n",
      "  ['D' 'D' 'B' 'B' 'B']\n",
      "  ['D' 'B' 'B' 'D' 'D']]\n",
      "\n",
      " [['B' 'D' 'B' 'D' 'D']\n",
      "  ['A' 'B' 'D' 'B' 'D']\n",
      "  ['D' 'D' 'B' 'B' 'D']]]\n"
     ]
    }
   ],
   "source": [
    "# your code here\n",
    "e = np.empty((2,3,5), dtype = str)\n",
    "     \n",
    "for t in range(2):\n",
    "    for r in range(3):\n",
    "        for c in range(5):\n",
    "            if d[t,r,c] > d_min and d[t,r,c] < d_mean:\n",
    "                e[t,r,c] = \"D\"\n",
    "            elif d[t,r,c] > d_mean and d[t,r,c] < d_max:\n",
    "                e[t,r,c] = \"B\"\n",
    "            elif d[t,r,c] == 0:\n",
    "                e[t,r,c] = \"E\"\n",
    "            elif d[t,r,c] == d_mean:\n",
    "                e[t,r,c] = \"C\"\n",
    "            else:\n",
    "                e[t,r,c] = \"A\"\n",
    "                \n",
    "print(e)"
   ]
  },
  {
   "cell_type": "code",
   "execution_count": 92,
   "metadata": {},
   "outputs": [
    {
     "name": "stdout",
     "output_type": "stream",
     "text": [
      "[[['D' 'D' 'B' 'D' 'A']\n",
      "  ['D' 'D' 'B' 'B' 'B']\n",
      "  ['D' 'B' 'B' 'D' 'D']]\n",
      "\n",
      " [['B' 'D' 'B' 'D' 'D']\n",
      "  ['E' 'B' 'D' 'B' 'D']\n",
      "  ['D' 'D' 'B' 'B' 'D']]]\n"
     ]
    }
   ],
   "source": [
    "# Here I am fooling around a more \"pythonic\" solution I saw Luke explaining\n",
    "g = np.empty((2,3,5), dtype = str)\n",
    "     \n",
    "g[(d_min < d) & (d < d_mean)] = \"D\"\n",
    "g[(d_mean < d) & (d < d_max)] = \"B\"\n",
    "g[(d==d_min)] = \"E\"\n",
    "g[(d==d_mean)] = \"C\"\n",
    "g[(d==d_max)] = \"A\"\n",
    "\n",
    "print(g)"
   ]
  },
  {
   "cell_type": "code",
   "execution_count": null,
   "metadata": {},
   "outputs": [],
   "source": [
    "#nice..."
   ]
  }
 ],
 "metadata": {
  "kernelspec": {
   "display_name": "Python 3",
   "language": "python",
   "name": "python3"
  },
  "language_info": {
   "codemirror_mode": {
    "name": "ipython",
    "version": 3
   },
   "file_extension": ".py",
   "mimetype": "text/x-python",
   "name": "python",
   "nbconvert_exporter": "python",
   "pygments_lexer": "ipython3",
   "version": "3.8.2"
  }
 },
 "nbformat": 4,
 "nbformat_minor": 2
}
